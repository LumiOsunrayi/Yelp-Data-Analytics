{
 "cells": [
  {
   "cell_type": "markdown",
   "metadata": {},
   "source": [
    "## YELP DATASET CODE"
   ]
  },
  {
   "cell_type": "code",
   "execution_count": 13,
   "metadata": {},
   "outputs": [],
   "source": [
    "#Import necessary libraries and packages\n",
    "import pandas as pd\n",
    "import numpy as np\n",
    "from pandas.io.json import json_normalize\n",
    "import matplotlib.pyplot as plt\n",
    "import seaborn as sns"
   ]
  },
  {
   "cell_type": "code",
   "execution_count": 14,
   "metadata": {},
   "outputs": [],
   "source": [
    "#Import primary CSV data file\n",
    "business_original = pd.read_csv('business.csv')"
   ]
  },
  {
   "cell_type": "code",
   "execution_count": 97,
   "metadata": {
    "scrolled": true
   },
   "outputs": [
    {
     "data": {
      "text/html": [
       "<div>\n",
       "<style scoped>\n",
       "    .dataframe tbody tr th:only-of-type {\n",
       "        vertical-align: middle;\n",
       "    }\n",
       "\n",
       "    .dataframe tbody tr th {\n",
       "        vertical-align: top;\n",
       "    }\n",
       "\n",
       "    .dataframe thead th {\n",
       "        text-align: right;\n",
       "    }\n",
       "</style>\n",
       "<table border=\"1\" class=\"dataframe\">\n",
       "  <thead>\n",
       "    <tr style=\"text-align: right;\">\n",
       "      <th></th>\n",
       "      <th>Unnamed: 0</th>\n",
       "      <th>business_id</th>\n",
       "      <th>name</th>\n",
       "      <th>address</th>\n",
       "      <th>city</th>\n",
       "      <th>state</th>\n",
       "      <th>postal_code</th>\n",
       "      <th>latitude</th>\n",
       "      <th>longitude</th>\n",
       "      <th>stars</th>\n",
       "      <th>review_count</th>\n",
       "      <th>is_open</th>\n",
       "      <th>attributes</th>\n",
       "      <th>categories</th>\n",
       "    </tr>\n",
       "  </thead>\n",
       "  <tbody>\n",
       "    <tr>\n",
       "      <th>0</th>\n",
       "      <td>0</td>\n",
       "      <td>f9NumwFMBDn751xgFiRbNA</td>\n",
       "      <td>The Range At Lake Norman</td>\n",
       "      <td>10913 Bailey Rd</td>\n",
       "      <td>Cornelius</td>\n",
       "      <td>NC</td>\n",
       "      <td>28031</td>\n",
       "      <td>35.462724</td>\n",
       "      <td>-80.852612</td>\n",
       "      <td>3.5</td>\n",
       "      <td>36</td>\n",
       "      <td>1</td>\n",
       "      <td>{'BusinessAcceptsCreditCards': 'True', 'BikePa...</td>\n",
       "      <td>Active Life, Gun/Rifle Ranges, Guns &amp; Ammo, Sh...</td>\n",
       "    </tr>\n",
       "    <tr>\n",
       "      <th>1</th>\n",
       "      <td>1</td>\n",
       "      <td>Yzvjg0SayhoZgCljUJRF9Q</td>\n",
       "      <td>Carlos Santo, NMD</td>\n",
       "      <td>8880 E Via Linda, Ste 107</td>\n",
       "      <td>Scottsdale</td>\n",
       "      <td>AZ</td>\n",
       "      <td>85258</td>\n",
       "      <td>33.569404</td>\n",
       "      <td>-111.890264</td>\n",
       "      <td>5.0</td>\n",
       "      <td>4</td>\n",
       "      <td>1</td>\n",
       "      <td>{'GoodForKids': 'True', 'ByAppointmentOnly': '...</td>\n",
       "      <td>Health &amp; Medical, Fitness &amp; Instruction, Yoga,...</td>\n",
       "    </tr>\n",
       "    <tr>\n",
       "      <th>2</th>\n",
       "      <td>2</td>\n",
       "      <td>XNoUzKckATkOD1hP6vghZg</td>\n",
       "      <td>Felinus</td>\n",
       "      <td>3554 Rue Notre-Dame O</td>\n",
       "      <td>Montreal</td>\n",
       "      <td>QC</td>\n",
       "      <td>H4C 1P4</td>\n",
       "      <td>45.479984</td>\n",
       "      <td>-73.580070</td>\n",
       "      <td>5.0</td>\n",
       "      <td>5</td>\n",
       "      <td>1</td>\n",
       "      <td>NaN</td>\n",
       "      <td>Pets, Pet Services, Pet Groomers</td>\n",
       "    </tr>\n",
       "  </tbody>\n",
       "</table>\n",
       "</div>"
      ],
      "text/plain": [
       "   Unnamed: 0             business_id                      name  \\\n",
       "0           0  f9NumwFMBDn751xgFiRbNA  The Range At Lake Norman   \n",
       "1           1  Yzvjg0SayhoZgCljUJRF9Q         Carlos Santo, NMD   \n",
       "2           2  XNoUzKckATkOD1hP6vghZg                   Felinus   \n",
       "\n",
       "                     address        city state postal_code   latitude  \\\n",
       "0            10913 Bailey Rd   Cornelius    NC       28031  35.462724   \n",
       "1  8880 E Via Linda, Ste 107  Scottsdale    AZ       85258  33.569404   \n",
       "2      3554 Rue Notre-Dame O    Montreal    QC     H4C 1P4  45.479984   \n",
       "\n",
       "    longitude  stars  review_count  is_open  \\\n",
       "0  -80.852612    3.5            36        1   \n",
       "1 -111.890264    5.0             4        1   \n",
       "2  -73.580070    5.0             5        1   \n",
       "\n",
       "                                          attributes  \\\n",
       "0  {'BusinessAcceptsCreditCards': 'True', 'BikePa...   \n",
       "1  {'GoodForKids': 'True', 'ByAppointmentOnly': '...   \n",
       "2                                                NaN   \n",
       "\n",
       "                                          categories  \n",
       "0  Active Life, Gun/Rifle Ranges, Guns & Ammo, Sh...  \n",
       "1  Health & Medical, Fitness & Instruction, Yoga,...  \n",
       "2                   Pets, Pet Services, Pet Groomers  "
      ]
     },
     "execution_count": 97,
     "metadata": {},
     "output_type": "execute_result"
    }
   ],
   "source": [
    "#First view of data \n",
    "business_original.head(3)"
   ]
  },
  {
   "cell_type": "code",
   "execution_count": 16,
   "metadata": {},
   "outputs": [
    {
     "data": {
      "text/plain": [
       "(209393, 15)"
      ]
     },
     "execution_count": 16,
     "metadata": {},
     "output_type": "execute_result"
    }
   ],
   "source": [
    "#Determine the actual span of our data\n",
    "business_original.shape"
   ]
  },
  {
   "cell_type": "code",
   "execution_count": 17,
   "metadata": {},
   "outputs": [
    {
     "data": {
      "text/plain": [
       "1250"
      ]
     },
     "execution_count": 17,
     "metadata": {},
     "output_type": "execute_result"
    }
   ],
   "source": [
    "#Unique cities in dataset\n",
    "business_original['city'].nunique()"
   ]
  },
  {
   "cell_type": "code",
   "execution_count": 18,
   "metadata": {},
   "outputs": [
    {
     "name": "stdout",
     "output_type": "stream",
     "text": [
      "<class 'pandas.core.frame.DataFrame'>\n",
      "RangeIndex: 209393 entries, 0 to 209392\n",
      "Data columns (total 15 columns):\n",
      "Unnamed: 0      209393 non-null int64\n",
      "business_id     209393 non-null object\n",
      "name            209392 non-null object\n",
      "address         200714 non-null object\n",
      "city            209391 non-null object\n",
      "state           209393 non-null object\n",
      "postal_code     208884 non-null object\n",
      "latitude        209393 non-null float64\n",
      "longitude       209393 non-null float64\n",
      "stars           209393 non-null float64\n",
      "review_count    209393 non-null int64\n",
      "is_open         209393 non-null int64\n",
      "attributes      180348 non-null object\n",
      "categories      208869 non-null object\n",
      "hours           164550 non-null object\n",
      "dtypes: float64(3), int64(3), object(9)\n",
      "memory usage: 24.0+ MB\n"
     ]
    }
   ],
   "source": [
    "#Assess the data types for ease of analysis\n",
    "business_original.info()"
   ]
  },
  {
   "cell_type": "code",
   "execution_count": 19,
   "metadata": {},
   "outputs": [
    {
     "data": {
      "text/plain": [
       "0"
      ]
     },
     "execution_count": 19,
     "metadata": {},
     "output_type": "execute_result"
    }
   ],
   "source": [
    "#Check for duplicate records in the dataset\n",
    "business_original.duplicated().sum()"
   ]
  },
  {
   "cell_type": "code",
   "execution_count": 20,
   "metadata": {
    "scrolled": true
   },
   "outputs": [
    {
     "data": {
      "text/plain": [
       "Unnamed: 0          0\n",
       "business_id         0\n",
       "name                1\n",
       "address          8679\n",
       "city                2\n",
       "state               0\n",
       "postal_code       509\n",
       "latitude            0\n",
       "longitude           0\n",
       "stars               0\n",
       "review_count        0\n",
       "is_open             0\n",
       "attributes      29045\n",
       "categories        524\n",
       "hours           44843\n",
       "dtype: int64"
      ]
     },
     "execution_count": 20,
     "metadata": {},
     "output_type": "execute_result"
    }
   ],
   "source": [
    "#Check for Null values \n",
    "business_original.isnull().sum()"
   ]
  },
  {
   "cell_type": "code",
   "execution_count": 21,
   "metadata": {},
   "outputs": [
    {
     "data": {
      "text/plain": [
       "21.415711126924013"
      ]
     },
     "execution_count": 21,
     "metadata": {},
     "output_type": "execute_result"
    }
   ],
   "source": [
    "#check what percentage of hours is null\n",
    "(business_original.hours.isnull().sum()/len(business_original))*100"
   ]
  },
  {
   "cell_type": "code",
   "execution_count": 22,
   "metadata": {},
   "outputs": [],
   "source": [
    "#hours is not really useful and has a bad format so we drop it\n",
    "business_original.drop('hours', axis=1, inplace=True)"
   ]
  },
  {
   "cell_type": "code",
   "execution_count": 23,
   "metadata": {},
   "outputs": [
    {
     "data": {
      "text/plain": [
       "(209393, 14)"
      ]
     },
     "execution_count": 23,
     "metadata": {},
     "output_type": "execute_result"
    }
   ],
   "source": [
    "#updated span/size of dataset\n",
    "business_original.shape"
   ]
  },
  {
   "cell_type": "code",
   "execution_count": 24,
   "metadata": {},
   "outputs": [
    {
     "data": {
      "text/plain": [
       "AZ     60803\n",
       "NV     39084\n",
       "ON     36627\n",
       "OH     16392\n",
       "NC     16218\n",
       "PA     12376\n",
       "QC     10233\n",
       "AB      8682\n",
       "WI      5525\n",
       "IL      2034\n",
       "SC      1328\n",
       "CA        23\n",
       "NY        22\n",
       "TX         6\n",
       "WA         5\n",
       "AL         3\n",
       "FL         3\n",
       "GA         3\n",
       "BC         2\n",
       "CT         2\n",
       "UT         2\n",
       "CO         2\n",
       "NE         2\n",
       "MI         2\n",
       "VT         2\n",
       "HPL        1\n",
       "AR         1\n",
       "HI         1\n",
       "AK         1\n",
       "DOW        1\n",
       "MO         1\n",
       "YT         1\n",
       "XWY        1\n",
       "VA         1\n",
       "DUR        1\n",
       "MB         1\n",
       "OR         1\n",
       "Name: state, dtype: int64"
      ]
     },
     "execution_count": 24,
     "metadata": {},
     "output_type": "execute_result"
    }
   ],
   "source": [
    "#Analyze the state column to determine which states will be of use\n",
    "business_original['state'].value_counts()"
   ]
  },
  {
   "cell_type": "code",
   "execution_count": 25,
   "metadata": {},
   "outputs": [
    {
     "data": {
      "text/plain": [
       "<matplotlib.axes._subplots.AxesSubplot at 0x624c901978>"
      ]
     },
     "execution_count": 25,
     "metadata": {},
     "output_type": "execute_result"
    },
    {
     "data": {
      "image/png": "[encoded data removed]",
      "text/plain": [
       "<Figure size 1152x288 with 1 Axes>"
      ]
     },
     "metadata": {
      "needs_background": "light"
     },
     "output_type": "display_data"
    }
   ],
   "source": [
    "#Visulaize the distribution above\n",
    "ax = business_original['state'].value_counts()\n",
    "ax.plot.bar(figsize = (16,4), title=\"Count of Business Records for each State\")"
   ]
  },
  {
   "cell_type": "code",
   "execution_count": 26,
   "metadata": {},
   "outputs": [],
   "source": [
    "#Graph new order of states\n",
    "filt = ['AZ','NV','NC','OH','PA']\n",
    "state_filt= business_original['state'].isin(filt)\n",
    "graph=business_original[state_filt]"
   ]
  },
  {
   "cell_type": "code",
   "execution_count": 27,
   "metadata": {},
   "outputs": [
    {
     "data": {
      "text/plain": [
       "<matplotlib.axes._subplots.AxesSubplot at 0x62540519e8>"
      ]
     },
     "execution_count": 27,
     "metadata": {},
     "output_type": "execute_result"
    },
    {
     "data": {
      "image/png": "[encoded data removed]",
      "text/plain": [
       "<Figure size 1152x288 with 1 Axes>"
      ]
     },
     "metadata": {
      "needs_background": "light"
     },
     "output_type": "display_data"
    }
   ],
   "source": [
    "ax_1 = graph['state'].value_counts()\n",
    "ax_1.plot.bar(figsize = (16,4), title=\"Count of Business Records for each State\")"
   ]
  },
  {
   "cell_type": "code",
   "execution_count": 28,
   "metadata": {
    "scrolled": true
   },
   "outputs": [
    {
     "data": {
      "text/html": [
       "<div>\n",
       "<style scoped>\n",
       "    .dataframe tbody tr th:only-of-type {\n",
       "        vertical-align: middle;\n",
       "    }\n",
       "\n",
       "    .dataframe tbody tr th {\n",
       "        vertical-align: top;\n",
       "    }\n",
       "\n",
       "    .dataframe thead th {\n",
       "        text-align: right;\n",
       "    }\n",
       "</style>\n",
       "<table border=\"1\" class=\"dataframe\">\n",
       "  <thead>\n",
       "    <tr style=\"text-align: right;\">\n",
       "      <th></th>\n",
       "      <th>Unnamed: 0</th>\n",
       "      <th>business_id</th>\n",
       "      <th>name</th>\n",
       "      <th>address</th>\n",
       "      <th>city</th>\n",
       "      <th>state</th>\n",
       "      <th>postal_code</th>\n",
       "      <th>latitude</th>\n",
       "      <th>longitude</th>\n",
       "      <th>stars</th>\n",
       "      <th>review_count</th>\n",
       "      <th>is_open</th>\n",
       "      <th>attributes</th>\n",
       "      <th>categories</th>\n",
       "    </tr>\n",
       "  </thead>\n",
       "  <tbody>\n",
       "    <tr>\n",
       "      <th>0</th>\n",
       "      <td>0</td>\n",
       "      <td>f9NumwFMBDn751xgFiRbNA</td>\n",
       "      <td>The Range At Lake Norman</td>\n",
       "      <td>10913 Bailey Rd</td>\n",
       "      <td>Cornelius</td>\n",
       "      <td>NC</td>\n",
       "      <td>28031</td>\n",
       "      <td>35.462724</td>\n",
       "      <td>-80.852612</td>\n",
       "      <td>3.5</td>\n",
       "      <td>36</td>\n",
       "      <td>1</td>\n",
       "      <td>{'BusinessAcceptsCreditCards': 'True', 'BikePa...</td>\n",
       "      <td>Active Life, Gun/Rifle Ranges, Guns &amp; Ammo, Sh...</td>\n",
       "    </tr>\n",
       "    <tr>\n",
       "      <th>1</th>\n",
       "      <td>1</td>\n",
       "      <td>Yzvjg0SayhoZgCljUJRF9Q</td>\n",
       "      <td>Carlos Santo, NMD</td>\n",
       "      <td>8880 E Via Linda, Ste 107</td>\n",
       "      <td>Scottsdale</td>\n",
       "      <td>AZ</td>\n",
       "      <td>85258</td>\n",
       "      <td>33.569404</td>\n",
       "      <td>-111.890264</td>\n",
       "      <td>5.0</td>\n",
       "      <td>4</td>\n",
       "      <td>1</td>\n",
       "      <td>{'GoodForKids': 'True', 'ByAppointmentOnly': '...</td>\n",
       "      <td>Health &amp; Medical, Fitness &amp; Instruction, Yoga,...</td>\n",
       "    </tr>\n",
       "    <tr>\n",
       "      <th>3</th>\n",
       "      <td>3</td>\n",
       "      <td>6OAZjbxqM5ol29BuHsil3w</td>\n",
       "      <td>Nevada House of Hose</td>\n",
       "      <td>1015 Sharp Cir</td>\n",
       "      <td>North Las Vegas</td>\n",
       "      <td>NV</td>\n",
       "      <td>89030</td>\n",
       "      <td>36.219728</td>\n",
       "      <td>-115.127725</td>\n",
       "      <td>2.5</td>\n",
       "      <td>3</td>\n",
       "      <td>0</td>\n",
       "      <td>{'BusinessAcceptsCreditCards': 'True', 'ByAppo...</td>\n",
       "      <td>Hardware Stores, Home Services, Building Suppl...</td>\n",
       "    </tr>\n",
       "    <tr>\n",
       "      <th>4</th>\n",
       "      <td>4</td>\n",
       "      <td>51M2Kk903DFYI6gnB5I6SQ</td>\n",
       "      <td>USE MY GUY SERVICES LLC</td>\n",
       "      <td>4827 E Downing Cir</td>\n",
       "      <td>Mesa</td>\n",
       "      <td>AZ</td>\n",
       "      <td>85205</td>\n",
       "      <td>33.428065</td>\n",
       "      <td>-111.726649</td>\n",
       "      <td>4.5</td>\n",
       "      <td>26</td>\n",
       "      <td>1</td>\n",
       "      <td>{'BusinessAcceptsCreditCards': 'True', 'ByAppo...</td>\n",
       "      <td>Home Services, Plumbing, Electricians, Handyma...</td>\n",
       "    </tr>\n",
       "    <tr>\n",
       "      <th>5</th>\n",
       "      <td>5</td>\n",
       "      <td>cKyLV5oWZJ2NudWgqs8VZw</td>\n",
       "      <td>Oasis Auto Center - Gilbert</td>\n",
       "      <td>1720 W Elliot Rd, Ste 105</td>\n",
       "      <td>Gilbert</td>\n",
       "      <td>AZ</td>\n",
       "      <td>85233</td>\n",
       "      <td>33.350399</td>\n",
       "      <td>-111.827142</td>\n",
       "      <td>4.5</td>\n",
       "      <td>38</td>\n",
       "      <td>1</td>\n",
       "      <td>{'BusinessAcceptsCreditCards': 'True'}</td>\n",
       "      <td>Auto Repair, Automotive, Oil Change Stations, ...</td>\n",
       "    </tr>\n",
       "  </tbody>\n",
       "</table>\n",
       "</div>"
      ],
      "text/plain": [
       "   Unnamed: 0             business_id                         name  \\\n",
       "0           0  f9NumwFMBDn751xgFiRbNA     The Range At Lake Norman   \n",
       "1           1  Yzvjg0SayhoZgCljUJRF9Q            Carlos Santo, NMD   \n",
       "3           3  6OAZjbxqM5ol29BuHsil3w         Nevada House of Hose   \n",
       "4           4  51M2Kk903DFYI6gnB5I6SQ      USE MY GUY SERVICES LLC   \n",
       "5           5  cKyLV5oWZJ2NudWgqs8VZw  Oasis Auto Center - Gilbert   \n",
       "\n",
       "                     address             city state postal_code   latitude  \\\n",
       "0            10913 Bailey Rd        Cornelius    NC       28031  35.462724   \n",
       "1  8880 E Via Linda, Ste 107       Scottsdale    AZ       85258  33.569404   \n",
       "3             1015 Sharp Cir  North Las Vegas    NV       89030  36.219728   \n",
       "4         4827 E Downing Cir             Mesa    AZ       85205  33.428065   \n",
       "5  1720 W Elliot Rd, Ste 105          Gilbert    AZ       85233  33.350399   \n",
       "\n",
       "    longitude  stars  review_count  is_open  \\\n",
       "0  -80.852612    3.5            36        1   \n",
       "1 -111.890264    5.0             4        1   \n",
       "3 -115.127725    2.5             3        0   \n",
       "4 -111.726649    4.5            26        1   \n",
       "5 -111.827142    4.5            38        1   \n",
       "\n",
       "                                          attributes  \\\n",
       "0  {'BusinessAcceptsCreditCards': 'True', 'BikePa...   \n",
       "1  {'GoodForKids': 'True', 'ByAppointmentOnly': '...   \n",
       "3  {'BusinessAcceptsCreditCards': 'True', 'ByAppo...   \n",
       "4  {'BusinessAcceptsCreditCards': 'True', 'ByAppo...   \n",
       "5             {'BusinessAcceptsCreditCards': 'True'}   \n",
       "\n",
       "                                          categories  \n",
       "0  Active Life, Gun/Rifle Ranges, Guns & Ammo, Sh...  \n",
       "1  Health & Medical, Fitness & Instruction, Yoga,...  \n",
       "3  Hardware Stores, Home Services, Building Suppl...  \n",
       "4  Home Services, Plumbing, Electricians, Handyma...  \n",
       "5  Auto Repair, Automotive, Oil Change Stations, ...  "
      ]
     },
     "execution_count": 28,
     "metadata": {},
     "output_type": "execute_result"
    }
   ],
   "source": [
    "#Hence, filter needs only relevant states\n",
    "filt1 = ['AZ','NV','NC','OH','PA']\n",
    "state_filt1= business_original['state'].isin(filt1)\n",
    "business = business_original[state_filt1]\n",
    "business.head()"
   ]
  },
  {
   "cell_type": "code",
   "execution_count": 29,
   "metadata": {},
   "outputs": [
    {
     "data": {
      "text/plain": [
       "AZ    60803\n",
       "NV    39084\n",
       "OH    16392\n",
       "NC    16218\n",
       "PA    12376\n",
       "Name: state, dtype: int64"
      ]
     },
     "execution_count": 29,
     "metadata": {},
     "output_type": "execute_result"
    }
   ],
   "source": [
    "business['state'].value_counts()"
   ]
  },
  {
   "cell_type": "code",
   "execution_count": 30,
   "metadata": {},
   "outputs": [
    {
     "data": {
      "text/plain": [
       "(144873, 14)"
      ]
     },
     "execution_count": 30,
     "metadata": {},
     "output_type": "execute_result"
    }
   ],
   "source": [
    "#How many records do we have left to work with?\n",
    "business.shape"
   ]
  },
  {
   "cell_type": "code",
   "execution_count": 31,
   "metadata": {},
   "outputs": [
    {
     "data": {
      "text/plain": [
       "376"
      ]
     },
     "execution_count": 31,
     "metadata": {},
     "output_type": "execute_result"
    }
   ],
   "source": [
    "#Begin exploration of categories\n",
    "#Check for null values\n",
    "business['categories'].isnull().sum()"
   ]
  },
  {
   "cell_type": "code",
   "execution_count": 33,
   "metadata": {},
   "outputs": [],
   "source": [
    "#Reset index and drop unneccessry columns\n",
    "business=business.reset_index().drop(columns=['Unnamed: 0','index'])"
   ]
  },
  {
   "cell_type": "code",
   "execution_count": 34,
   "metadata": {},
   "outputs": [],
   "source": [
    "#Filter out only records that fall into important categories\n",
    "targets = ['Restaurants', 'Fast Food','Shopping','Beauty','Spa','Nightlife','Auto', 'Arts','Entertainment','Active Life']\n",
    "business=business[business.categories.str.contains('|'.join(targets))]\n"
   ]
  },
  {
   "cell_type": "code",
   "execution_count": 35,
   "metadata": {},
   "outputs": [
    {
     "data": {
      "text/plain": [
       "(95051, 13)"
      ]
     },
     "execution_count": 35,
     "metadata": {},
     "output_type": "execute_result"
    }
   ],
   "source": [
    "#What do we have left?\n",
    "business.shape"
   ]
  },
  {
   "cell_type": "code",
   "execution_count": 36,
   "metadata": {},
   "outputs": [],
   "source": [
    "#CREATE FUNCTION TO SINGLE OUT AREA OF PRIMARY INTEREST FOR ANALYSIS"
   ]
  },
  {
   "cell_type": "code",
   "execution_count": 37,
   "metadata": {},
   "outputs": [],
   "source": [
    "def Restaurant(x):\n",
    "     if ('restaurants' in x.lower()) or ('fast food' in x.lower()) or ('restaurant' in x.lower()):\n",
    "        return 1\n",
    "     else:\n",
    "        return 0"
   ]
  },
  {
   "cell_type": "code",
   "execution_count": 38,
   "metadata": {},
   "outputs": [
    {
     "data": {
      "text/html": [
       "<div>\n",
       "<style scoped>\n",
       "    .dataframe tbody tr th:only-of-type {\n",
       "        vertical-align: middle;\n",
       "    }\n",
       "\n",
       "    .dataframe tbody tr th {\n",
       "        vertical-align: top;\n",
       "    }\n",
       "\n",
       "    .dataframe thead th {\n",
       "        text-align: right;\n",
       "    }\n",
       "</style>\n",
       "<table border=\"1\" class=\"dataframe\">\n",
       "  <thead>\n",
       "    <tr style=\"text-align: right;\">\n",
       "      <th></th>\n",
       "      <th>categories</th>\n",
       "      <th>Restaurant</th>\n",
       "    </tr>\n",
       "  </thead>\n",
       "  <tbody>\n",
       "    <tr>\n",
       "      <th>0</th>\n",
       "      <td>Active Life, Gun/Rifle Ranges, Guns &amp; Ammo, Sh...</td>\n",
       "      <td>0</td>\n",
       "    </tr>\n",
       "    <tr>\n",
       "      <th>1</th>\n",
       "      <td>Health &amp; Medical, Fitness &amp; Instruction, Yoga,...</td>\n",
       "      <td>0</td>\n",
       "    </tr>\n",
       "    <tr>\n",
       "      <th>2</th>\n",
       "      <td>Hardware Stores, Home Services, Building Suppl...</td>\n",
       "      <td>0</td>\n",
       "    </tr>\n",
       "    <tr>\n",
       "      <th>4</th>\n",
       "      <td>Auto Repair, Automotive, Oil Change Stations, ...</td>\n",
       "      <td>0</td>\n",
       "    </tr>\n",
       "    <tr>\n",
       "      <th>6</th>\n",
       "      <td>Auto Repair, Oil Change Stations, Automotive, ...</td>\n",
       "      <td>0</td>\n",
       "    </tr>\n",
       "    <tr>\n",
       "      <th>7</th>\n",
       "      <td>Automotive, Auto Repair</td>\n",
       "      <td>0</td>\n",
       "    </tr>\n",
       "    <tr>\n",
       "      <th>9</th>\n",
       "      <td>Beauty &amp; Spas, Tanning</td>\n",
       "      <td>0</td>\n",
       "    </tr>\n",
       "    <tr>\n",
       "      <th>11</th>\n",
       "      <td>Shopping, Shoe Stores, Fashion</td>\n",
       "      <td>0</td>\n",
       "    </tr>\n",
       "    <tr>\n",
       "      <th>12</th>\n",
       "      <td>Event Planning &amp; Services, Wedding Planning, F...</td>\n",
       "      <td>0</td>\n",
       "    </tr>\n",
       "    <tr>\n",
       "      <th>13</th>\n",
       "      <td>Weight Loss Centers, Fitness &amp; Instruction, Bo...</td>\n",
       "      <td>0</td>\n",
       "    </tr>\n",
       "  </tbody>\n",
       "</table>\n",
       "</div>"
      ],
      "text/plain": [
       "                                           categories  Restaurant\n",
       "0   Active Life, Gun/Rifle Ranges, Guns & Ammo, Sh...           0\n",
       "1   Health & Medical, Fitness & Instruction, Yoga,...           0\n",
       "2   Hardware Stores, Home Services, Building Suppl...           0\n",
       "4   Auto Repair, Automotive, Oil Change Stations, ...           0\n",
       "6   Auto Repair, Oil Change Stations, Automotive, ...           0\n",
       "7                             Automotive, Auto Repair           0\n",
       "9                              Beauty & Spas, Tanning           0\n",
       "11                     Shopping, Shoe Stores, Fashion           0\n",
       "12  Event Planning & Services, Wedding Planning, F...           0\n",
       "13  Weight Loss Centers, Fitness & Instruction, Bo...           0"
      ]
     },
     "execution_count": 38,
     "metadata": {},
     "output_type": "execute_result"
    }
   ],
   "source": [
    "business[\"Restaurant\"] = business[\"categories\"].apply(Restaurant)\n",
    "business[[\"categories\",\"Restaurant\"]].head(10)"
   ]
  },
  {
   "cell_type": "code",
   "execution_count": 39,
   "metadata": {},
   "outputs": [
    {
     "data": {
      "text/plain": [
       "35305"
      ]
     },
     "execution_count": 39,
     "metadata": {},
     "output_type": "execute_result"
    }
   ],
   "source": [
    "business[\"Restaurant\"].sum()"
   ]
  },
  {
   "cell_type": "markdown",
   "metadata": {},
   "source": [
    "# Extracting Attributes"
   ]
  },
  {
   "cell_type": "code",
   "execution_count": 40,
   "metadata": {},
   "outputs": [
    {
     "data": {
      "text/html": [
       "<div>\n",
       "<style scoped>\n",
       "    .dataframe tbody tr th:only-of-type {\n",
       "        vertical-align: middle;\n",
       "    }\n",
       "\n",
       "    .dataframe tbody tr th {\n",
       "        vertical-align: top;\n",
       "    }\n",
       "\n",
       "    .dataframe thead th {\n",
       "        text-align: right;\n",
       "    }\n",
       "</style>\n",
       "<table border=\"1\" class=\"dataframe\">\n",
       "  <thead>\n",
       "    <tr style=\"text-align: right;\">\n",
       "      <th></th>\n",
       "      <th>business_id</th>\n",
       "      <th>name</th>\n",
       "      <th>address</th>\n",
       "      <th>city</th>\n",
       "      <th>state</th>\n",
       "      <th>postal_code</th>\n",
       "      <th>latitude</th>\n",
       "      <th>longitude</th>\n",
       "      <th>stars</th>\n",
       "      <th>review_count</th>\n",
       "      <th>is_open</th>\n",
       "      <th>attributes</th>\n",
       "      <th>categories</th>\n",
       "      <th>Restaurant</th>\n",
       "    </tr>\n",
       "  </thead>\n",
       "  <tbody>\n",
       "    <tr>\n",
       "      <th>0</th>\n",
       "      <td>f9NumwFMBDn751xgFiRbNA</td>\n",
       "      <td>The Range At Lake Norman</td>\n",
       "      <td>10913 Bailey Rd</td>\n",
       "      <td>Cornelius</td>\n",
       "      <td>NC</td>\n",
       "      <td>28031</td>\n",
       "      <td>35.462724</td>\n",
       "      <td>-80.852612</td>\n",
       "      <td>3.5</td>\n",
       "      <td>36</td>\n",
       "      <td>1</td>\n",
       "      <td>BusinessAcceptsCreditCards: True, BikeParking:...</td>\n",
       "      <td>Active Life, Gun/Rifle Ranges, Guns &amp; Ammo, Sh...</td>\n",
       "      <td>0</td>\n",
       "    </tr>\n",
       "    <tr>\n",
       "      <th>1</th>\n",
       "      <td>Yzvjg0SayhoZgCljUJRF9Q</td>\n",
       "      <td>Carlos Santo, NMD</td>\n",
       "      <td>8880 E Via Linda, Ste 107</td>\n",
       "      <td>Scottsdale</td>\n",
       "      <td>AZ</td>\n",
       "      <td>85258</td>\n",
       "      <td>33.569404</td>\n",
       "      <td>-111.890264</td>\n",
       "      <td>5.0</td>\n",
       "      <td>4</td>\n",
       "      <td>1</td>\n",
       "      <td>GoodForKids: True, ByAppointmentOnly: True</td>\n",
       "      <td>Health &amp; Medical, Fitness &amp; Instruction, Yoga,...</td>\n",
       "      <td>0</td>\n",
       "    </tr>\n",
       "    <tr>\n",
       "      <th>2</th>\n",
       "      <td>6OAZjbxqM5ol29BuHsil3w</td>\n",
       "      <td>Nevada House of Hose</td>\n",
       "      <td>1015 Sharp Cir</td>\n",
       "      <td>North Las Vegas</td>\n",
       "      <td>NV</td>\n",
       "      <td>89030</td>\n",
       "      <td>36.219728</td>\n",
       "      <td>-115.127725</td>\n",
       "      <td>2.5</td>\n",
       "      <td>3</td>\n",
       "      <td>0</td>\n",
       "      <td>BusinessAcceptsCreditCards: True, ByAppointmen...</td>\n",
       "      <td>Hardware Stores, Home Services, Building Suppl...</td>\n",
       "      <td>0</td>\n",
       "    </tr>\n",
       "    <tr>\n",
       "      <th>4</th>\n",
       "      <td>cKyLV5oWZJ2NudWgqs8VZw</td>\n",
       "      <td>Oasis Auto Center - Gilbert</td>\n",
       "      <td>1720 W Elliot Rd, Ste 105</td>\n",
       "      <td>Gilbert</td>\n",
       "      <td>AZ</td>\n",
       "      <td>85233</td>\n",
       "      <td>33.350399</td>\n",
       "      <td>-111.827142</td>\n",
       "      <td>4.5</td>\n",
       "      <td>38</td>\n",
       "      <td>1</td>\n",
       "      <td>BusinessAcceptsCreditCards: True</td>\n",
       "      <td>Auto Repair, Automotive, Oil Change Stations, ...</td>\n",
       "      <td>0</td>\n",
       "    </tr>\n",
       "    <tr>\n",
       "      <th>6</th>\n",
       "      <td>ScYkbYNkDgCneBrD9vqhCQ</td>\n",
       "      <td>Junction Tire &amp; Auto Service</td>\n",
       "      <td>6910 E Southern Ave</td>\n",
       "      <td>Mesa</td>\n",
       "      <td>AZ</td>\n",
       "      <td>85209</td>\n",
       "      <td>33.393885</td>\n",
       "      <td>-111.682226</td>\n",
       "      <td>5.0</td>\n",
       "      <td>18</td>\n",
       "      <td>1</td>\n",
       "      <td>BusinessAcceptsCreditCards: True, ByAppointmen...</td>\n",
       "      <td>Auto Repair, Oil Change Stations, Automotive, ...</td>\n",
       "      <td>0</td>\n",
       "    </tr>\n",
       "  </tbody>\n",
       "</table>\n",
       "</div>"
      ],
      "text/plain": [
       "              business_id                          name  \\\n",
       "0  f9NumwFMBDn751xgFiRbNA      The Range At Lake Norman   \n",
       "1  Yzvjg0SayhoZgCljUJRF9Q             Carlos Santo, NMD   \n",
       "2  6OAZjbxqM5ol29BuHsil3w          Nevada House of Hose   \n",
       "4  cKyLV5oWZJ2NudWgqs8VZw   Oasis Auto Center - Gilbert   \n",
       "6  ScYkbYNkDgCneBrD9vqhCQ  Junction Tire & Auto Service   \n",
       "\n",
       "                     address             city state postal_code   latitude  \\\n",
       "0            10913 Bailey Rd        Cornelius    NC       28031  35.462724   \n",
       "1  8880 E Via Linda, Ste 107       Scottsdale    AZ       85258  33.569404   \n",
       "2             1015 Sharp Cir  North Las Vegas    NV       89030  36.219728   \n",
       "4  1720 W Elliot Rd, Ste 105          Gilbert    AZ       85233  33.350399   \n",
       "6        6910 E Southern Ave             Mesa    AZ       85209  33.393885   \n",
       "\n",
       "    longitude  stars  review_count  is_open  \\\n",
       "0  -80.852612    3.5            36        1   \n",
       "1 -111.890264    5.0             4        1   \n",
       "2 -115.127725    2.5             3        0   \n",
       "4 -111.827142    4.5            38        1   \n",
       "6 -111.682226    5.0            18        1   \n",
       "\n",
       "                                          attributes  \\\n",
       "0  BusinessAcceptsCreditCards: True, BikeParking:...   \n",
       "1         GoodForKids: True, ByAppointmentOnly: True   \n",
       "2  BusinessAcceptsCreditCards: True, ByAppointmen...   \n",
       "4                   BusinessAcceptsCreditCards: True   \n",
       "6  BusinessAcceptsCreditCards: True, ByAppointmen...   \n",
       "\n",
       "                                          categories  Restaurant  \n",
       "0  Active Life, Gun/Rifle Ranges, Guns & Ammo, Sh...           0  \n",
       "1  Health & Medical, Fitness & Instruction, Yoga,...           0  \n",
       "2  Hardware Stores, Home Services, Building Suppl...           0  \n",
       "4  Auto Repair, Automotive, Oil Change Stations, ...           0  \n",
       "6  Auto Repair, Oil Change Stations, Automotive, ...           0  "
      ]
     },
     "execution_count": 40,
     "metadata": {},
     "output_type": "execute_result"
    }
   ],
   "source": [
    "#Expand attributes columns by splitting and create dummy variables\n",
    "business[\"attributes\"]=business[\"attributes\"].str.replace(\"{\",\"\")\n",
    "business[\"attributes\"]=business[\"attributes\"].str.replace(\"}\",\"\")\n",
    "business[\"attributes\"]=business[\"attributes\"].str.replace(\"'\",\"\")\n",
    "business[\"attributes\"]=business[\"attributes\"].str.replace('\"',\"\")\n",
    "business[\"attributes\"]=business[\"attributes\"].astype(str)\n",
    "pd.set_option('display.max_columns', 50)\n",
    "business.head()"
   ]
  },
  {
   "cell_type": "code",
   "execution_count": 41,
   "metadata": {},
   "outputs": [],
   "source": [
    "#Create Parking variable\n",
    "def Parking(x):\n",
    "    if ('valet: True' in x) or ('garage: True' in x) or ('lot: True' in x):\n",
    "        return 1\n",
    "    else:\n",
    "        return 0"
   ]
  },
  {
   "cell_type": "code",
   "execution_count": 42,
   "metadata": {},
   "outputs": [],
   "source": [
    "business['Parking']=business['attributes'].apply(Parking)\n"
   ]
  },
  {
   "cell_type": "code",
   "execution_count": 43,
   "metadata": {},
   "outputs": [],
   "source": [
    "#Create Kid_friendly variable\n",
    "def Kid_friendly(x):\n",
    "    if 'GoodForKids: True' in x:\n",
    "        return 1\n",
    "    else:\n",
    "        return 0"
   ]
  },
  {
   "cell_type": "code",
   "execution_count": 44,
   "metadata": {},
   "outputs": [],
   "source": [
    "business['Kid_friendly']=business['attributes'].apply(Kid_friendly)"
   ]
  },
  {
   "cell_type": "code",
   "execution_count": 45,
   "metadata": {},
   "outputs": [],
   "source": [
    "#Create Reservations variable\n",
    "def Reservations(x):\n",
    "    if 'RestaurantsReservations: True' in x:\n",
    "        return 1\n",
    "    else:\n",
    "        return 0"
   ]
  },
  {
   "cell_type": "code",
   "execution_count": 46,
   "metadata": {},
   "outputs": [],
   "source": [
    "business['Reservations'] = business['attributes'].apply(Reservations)"
   ]
  },
  {
   "cell_type": "code",
   "execution_count": 47,
   "metadata": {},
   "outputs": [],
   "source": [
    "#Create Price range variable\n",
    "def Price_Range(x):\n",
    "    if 'RestaurantsPriceRange2: 1' in x:\n",
    "        return 1\n",
    "    elif 'RestaurantsPriceRange2: 2' in x:\n",
    "        return 2\n",
    "    elif 'RestaurantsPriceRange2: 3' in x:\n",
    "        return 3\n",
    "    else:\n",
    "        return 4"
   ]
  },
  {
   "cell_type": "code",
   "execution_count": 48,
   "metadata": {},
   "outputs": [],
   "source": [
    "business['Price_Range'] = business['attributes'].apply(Price_Range)"
   ]
  },
  {
   "cell_type": "code",
   "execution_count": 49,
   "metadata": {},
   "outputs": [],
   "source": [
    "#Create creditcard variable\n",
    "def Credit_card(x):\n",
    "    if \"BusinessAcceptsCreditCards: True\" in x:\n",
    "        return 1\n",
    "    else:\n",
    "        return 0"
   ]
  },
  {
   "cell_type": "code",
   "execution_count": 50,
   "metadata": {},
   "outputs": [],
   "source": [
    "business['Credit_card'] = business['attributes'].apply(Credit_card)"
   ]
  },
  {
   "cell_type": "code",
   "execution_count": 51,
   "metadata": {},
   "outputs": [],
   "source": [
    "#Create wheelchair access variable\n",
    "def wheelchair_access(x):\n",
    "    if 'WheelchairAccessible: True' in x:\n",
    "        return 1\n",
    "    else:\n",
    "        return 0"
   ]
  },
  {
   "cell_type": "code",
   "execution_count": 52,
   "metadata": {},
   "outputs": [],
   "source": [
    "business['wheelchair_access'] = business['attributes'].apply(wheelchair_access)"
   ]
  },
  {
   "cell_type": "code",
   "execution_count": 53,
   "metadata": {},
   "outputs": [],
   "source": [
    "#Create breakfast variable\n",
    "def good_for_breakfast (x):\n",
    "    if 'breakfast: True' in x:\n",
    "        return 1\n",
    "    else:\n",
    "        return 0"
   ]
  },
  {
   "cell_type": "code",
   "execution_count": 54,
   "metadata": {},
   "outputs": [],
   "source": [
    "business['good_for_breakfast'] = business['attributes'].apply(good_for_breakfast)"
   ]
  },
  {
   "cell_type": "code",
   "execution_count": 55,
   "metadata": {},
   "outputs": [],
   "source": [
    "#Create lunch variable\n",
    "def good_for_lunch (x):\n",
    "    if 'lunch: True' in x:\n",
    "        return 1\n",
    "    else:\n",
    "        return 0"
   ]
  },
  {
   "cell_type": "code",
   "execution_count": 56,
   "metadata": {},
   "outputs": [],
   "source": [
    "business['good_for_lunch'] = business['attributes'].apply(good_for_lunch)"
   ]
  },
  {
   "cell_type": "code",
   "execution_count": 57,
   "metadata": {},
   "outputs": [],
   "source": [
    "#Create dinner variable\n",
    "def good_for_dinner (x):\n",
    "    if 'dinner: True' in x:\n",
    "        return 1\n",
    "    else:\n",
    "        return 0"
   ]
  },
  {
   "cell_type": "code",
   "execution_count": 58,
   "metadata": {},
   "outputs": [],
   "source": [
    "business['good_for_dinner'] = business['attributes'].apply(good_for_dinner)"
   ]
  },
  {
   "cell_type": "code",
   "execution_count": 59,
   "metadata": {},
   "outputs": [],
   "source": [
    "#Create alcohol variable\n",
    "def alcohol (x):\n",
    "    if ('Alcohol: ufull_bar' in x) or ('Alcohol: ubeer_and_wine' in x):\n",
    "        return 1\n",
    "    else:\n",
    "        return 0"
   ]
  },
  {
   "cell_type": "code",
   "execution_count": 60,
   "metadata": {},
   "outputs": [],
   "source": [
    "business['alcohol'] = business['attributes'].apply(alcohol)"
   ]
  },
  {
   "cell_type": "code",
   "execution_count": 61,
   "metadata": {},
   "outputs": [],
   "source": [
    "#Create happyhour variable\n",
    "def happyhour (x):\n",
    "    if 'HappyHour: True' in x :\n",
    "        return 1\n",
    "    else:\n",
    "        return 0"
   ]
  },
  {
   "cell_type": "code",
   "execution_count": 62,
   "metadata": {},
   "outputs": [],
   "source": [
    "business['happyhour'] = business['attributes'].apply(happyhour)"
   ]
  },
  {
   "cell_type": "code",
   "execution_count": 63,
   "metadata": {},
   "outputs": [],
   "source": [
    "#Create wifi variable\n",
    "def wifi (x):\n",
    "    if ('WiFi: ufree' in x) or ('WiFi: free' in x) or ('WiFi: yes' in x) or ('WiFi: uyes' in x) or ('WiFi: True' in x) or ('WiFi: uTrue' in x):\n",
    "        return 1\n",
    "    else:\n",
    "        return 0"
   ]
  },
  {
   "cell_type": "code",
   "execution_count": 64,
   "metadata": {},
   "outputs": [],
   "source": [
    "business['wifi'] = business['attributes'].apply(wifi)"
   ]
  },
  {
   "cell_type": "code",
   "execution_count": 65,
   "metadata": {},
   "outputs": [],
   "source": [
    "#Create table service variable\n",
    "def table_service (x):\n",
    "    if 'RestaurantsTableService: True' in x :\n",
    "        return 1\n",
    "    else:\n",
    "        return 0"
   ]
  },
  {
   "cell_type": "code",
   "execution_count": 66,
   "metadata": {},
   "outputs": [],
   "source": [
    "business['table_service'] = business['attributes'].apply(table_service)"
   ]
  },
  {
   "cell_type": "code",
   "execution_count": 67,
   "metadata": {},
   "outputs": [],
   "source": [
    "#Create Entertainment\n",
    "def Entertainment (x):\n",
    "    if ('HasTV: True' in x) or ('dj: True' in x) or ('background_music: True' in x) or ('jukebox: True' in x) or ('live: True' in x) or ('video: True' in x) or ('karaoke: True' in x):\n",
    "        return 1\n",
    "    else:\n",
    "        return 0"
   ]
  },
  {
   "cell_type": "code",
   "execution_count": 68,
   "metadata": {},
   "outputs": [],
   "source": [
    "business['Entertainment'] = business['attributes'].apply(Entertainment)"
   ]
  },
  {
   "cell_type": "code",
   "execution_count": 69,
   "metadata": {},
   "outputs": [],
   "source": [
    "#Create takeout variable\n",
    "def takeout (x):\n",
    "    if 'RestaurantsTakeOut: True' in x :\n",
    "        return 1\n",
    "    else:\n",
    "        return 0"
   ]
  },
  {
   "cell_type": "code",
   "execution_count": 70,
   "metadata": {},
   "outputs": [],
   "source": [
    "business['Takeout'] = business['attributes'].apply(takeout)"
   ]
  },
  {
   "cell_type": "code",
   "execution_count": 71,
   "metadata": {},
   "outputs": [],
   "source": [
    "#Create Noise_Level variable\n",
    "\n",
    "def Noise_Level(x):\n",
    "    if ('NoiseLevel: uquiet' in x) or ('NoiseLevel: quiet' in x):\n",
    "        return 1\n",
    "    elif ('NoiseLevel: uaverage' in x) or ('NoiseLevel: average' in x):\n",
    "        return 2\n",
    "    elif ('NoiseLevel: uloud' in x) or ('NoiseLevel: loud' in x):\n",
    "        return 3\n",
    "    else:\n",
    "        return 4"
   ]
  },
  {
   "cell_type": "code",
   "execution_count": 72,
   "metadata": {},
   "outputs": [],
   "source": [
    "business['Noise_Level'] = business['attributes'].apply(Noise_Level)"
   ]
  },
  {
   "cell_type": "code",
   "execution_count": 73,
   "metadata": {},
   "outputs": [],
   "source": [
    "#Create Reservations variable\n",
    "\n",
    "def Reservations (x):\n",
    "    if 'RestaurantsReservations: True' in x :\n",
    "        return 1\n",
    "    else:\n",
    "        return 0"
   ]
  },
  {
   "cell_type": "code",
   "execution_count": 74,
   "metadata": {},
   "outputs": [],
   "source": [
    "business['Reservations'] = business['attributes'].apply(Reservations)"
   ]
  },
  {
   "cell_type": "code",
   "execution_count": 75,
   "metadata": {},
   "outputs": [],
   "source": [
    "#Create Delivery variable\n",
    "\n",
    "def Delivery (x):\n",
    "    if 'RestaurantsDelivery: True' in x :\n",
    "        return 1\n",
    "    else:\n",
    "        return 0"
   ]
  },
  {
   "cell_type": "code",
   "execution_count": 76,
   "metadata": {},
   "outputs": [],
   "source": [
    "business['Delivery'] = business['attributes'].apply(Delivery)"
   ]
  },
  {
   "cell_type": "markdown",
   "metadata": {},
   "source": [
    "# Extracting Categories"
   ]
  },
  {
   "cell_type": "code",
   "execution_count": 77,
   "metadata": {},
   "outputs": [],
   "source": [
    "#Create FastFood variable\n",
    "def FastFood (x):\n",
    "    if 'Fast Food' in x :\n",
    "        return 1\n",
    "    else:\n",
    "        return 0"
   ]
  },
  {
   "cell_type": "code",
   "execution_count": 78,
   "metadata": {},
   "outputs": [],
   "source": [
    "business['FastFood'] = business['categories'].apply(FastFood)"
   ]
  },
  {
   "cell_type": "code",
   "execution_count": 79,
   "metadata": {},
   "outputs": [],
   "source": [
    "#Create Ethnicity variable\n",
    "def ethnicity (x):\n",
    "    if ('american' in x.lower()) or ('burgers' in x.lower()):\n",
    "        return 'American'\n",
    "    elif 'chinese' in x.lower():\n",
    "        return 'Chinese'\n",
    "    elif ('mexican' in x.lower()) or (\"tex-mex\"in x.lower()):\n",
    "        return 'Mexican'\n",
    "    elif 'italian' in x.lower():\n",
    "        return 'Italian'\n",
    "    elif ('japanese' in x.lower()) or ('sushi' in x.lower()):\n",
    "        return 'Japanese'\n",
    "   # elif 'thai' in x.lower():\n",
    "      #  return 'Thai'\n",
    "   # elif 'indian' in x.lower():\n",
    "      #  return 'Indian'\n",
    "   # elif 'korean' in x.lower():\n",
    "      #  return 'Korean'\n",
    "    else: \n",
    "        return 'other'"
   ]
  },
  {
   "cell_type": "code",
   "execution_count": 80,
   "metadata": {},
   "outputs": [],
   "source": [
    "business['Ethnicity'] = business['categories'].apply(ethnicity)"
   ]
  },
  {
   "cell_type": "code",
   "execution_count": 81,
   "metadata": {},
   "outputs": [],
   "source": [
    "#Remove foreign symbols from name to allow for counting chains\n",
    "business[\"name\"]=business[\"name\"].str.replace(' ',\"\")\n",
    "business[\"name\"]=business[\"name\"].str.replace(\"'\",\"\")\n",
    "business[\"name\"]=business[\"name\"].str.replace(',',\"\")\n",
    "business[\"name\"]=business[\"name\"].str.replace('.',\"\")\n",
    "\n",
    "business[\"name\"]=business[\"name\"].astype(str)\n",
    "business[\"name\"]=business[\"name\"].str.lower()\n"
   ]
  },
  {
   "cell_type": "code",
   "execution_count": 82,
   "metadata": {
    "scrolled": true
   },
   "outputs": [
    {
     "data": {
      "text/html": [
       "<div>\n",
       "<style scoped>\n",
       "    .dataframe tbody tr th:only-of-type {\n",
       "        vertical-align: middle;\n",
       "    }\n",
       "\n",
       "    .dataframe tbody tr th {\n",
       "        vertical-align: top;\n",
       "    }\n",
       "\n",
       "    .dataframe thead th {\n",
       "        text-align: right;\n",
       "    }\n",
       "</style>\n",
       "<table border=\"1\" class=\"dataframe\">\n",
       "  <thead>\n",
       "    <tr style=\"text-align: right;\">\n",
       "      <th></th>\n",
       "      <th>business_id</th>\n",
       "      <th>name</th>\n",
       "      <th>address</th>\n",
       "      <th>city</th>\n",
       "      <th>state</th>\n",
       "      <th>postal_code</th>\n",
       "      <th>latitude</th>\n",
       "      <th>longitude</th>\n",
       "      <th>stars</th>\n",
       "      <th>review_count</th>\n",
       "      <th>is_open</th>\n",
       "      <th>attributes</th>\n",
       "      <th>categories</th>\n",
       "      <th>Restaurant</th>\n",
       "      <th>Parking</th>\n",
       "      <th>Kid_friendly</th>\n",
       "      <th>Reservations</th>\n",
       "      <th>Price_Range</th>\n",
       "      <th>Credit_card</th>\n",
       "      <th>wheelchair_access</th>\n",
       "      <th>good_for_breakfast</th>\n",
       "      <th>good_for_lunch</th>\n",
       "      <th>good_for_dinner</th>\n",
       "      <th>alcohol</th>\n",
       "      <th>happyhour</th>\n",
       "      <th>wifi</th>\n",
       "      <th>table_service</th>\n",
       "      <th>Entertainment</th>\n",
       "      <th>Takeout</th>\n",
       "      <th>Noise_Level</th>\n",
       "      <th>Delivery</th>\n",
       "      <th>FastFood</th>\n",
       "      <th>Ethnicity</th>\n",
       "    </tr>\n",
       "  </thead>\n",
       "  <tbody>\n",
       "    <tr>\n",
       "      <th>14</th>\n",
       "      <td>CsLQLiRoafpJPJSkNX2h5Q</td>\n",
       "      <td>middleeastdeli</td>\n",
       "      <td>4508 E Independence Blvd</td>\n",
       "      <td>Charlotte</td>\n",
       "      <td>NC</td>\n",
       "      <td>28205</td>\n",
       "      <td>35.194894</td>\n",
       "      <td>-80.767442</td>\n",
       "      <td>3.0</td>\n",
       "      <td>5</td>\n",
       "      <td>0</td>\n",
       "      <td>RestaurantsGoodForGroups: True, OutdoorSeating...</td>\n",
       "      <td>Food, Restaurants, Grocery, Middle Eastern</td>\n",
       "      <td>1</td>\n",
       "      <td>0</td>\n",
       "      <td>1</td>\n",
       "      <td>0</td>\n",
       "      <td>1</td>\n",
       "      <td>1</td>\n",
       "      <td>0</td>\n",
       "      <td>0</td>\n",
       "      <td>0</td>\n",
       "      <td>0</td>\n",
       "      <td>0</td>\n",
       "      <td>0</td>\n",
       "      <td>0</td>\n",
       "      <td>0</td>\n",
       "      <td>0</td>\n",
       "      <td>1</td>\n",
       "      <td>4</td>\n",
       "      <td>0</td>\n",
       "      <td>0</td>\n",
       "      <td>other</td>\n",
       "    </tr>\n",
       "    <tr>\n",
       "      <th>21</th>\n",
       "      <td>vjTVxnsQEZ34XjYNS-XUpA</td>\n",
       "      <td>wetzelspretzels</td>\n",
       "      <td>4550 East Cactus Rd, #KSFC-4</td>\n",
       "      <td>Phoenix</td>\n",
       "      <td>AZ</td>\n",
       "      <td>85032</td>\n",
       "      <td>33.602822</td>\n",
       "      <td>-111.983533</td>\n",
       "      <td>4.0</td>\n",
       "      <td>10</td>\n",
       "      <td>1</td>\n",
       "      <td>GoodForKids: True, RestaurantsTakeOut: True, R...</td>\n",
       "      <td>Food, Pretzels, Bakeries, Fast Food, Restaurants</td>\n",
       "      <td>1</td>\n",
       "      <td>1</td>\n",
       "      <td>1</td>\n",
       "      <td>0</td>\n",
       "      <td>1</td>\n",
       "      <td>1</td>\n",
       "      <td>0</td>\n",
       "      <td>0</td>\n",
       "      <td>0</td>\n",
       "      <td>0</td>\n",
       "      <td>0</td>\n",
       "      <td>0</td>\n",
       "      <td>0</td>\n",
       "      <td>0</td>\n",
       "      <td>0</td>\n",
       "      <td>1</td>\n",
       "      <td>4</td>\n",
       "      <td>0</td>\n",
       "      <td>1</td>\n",
       "      <td>other</td>\n",
       "    </tr>\n",
       "    <tr>\n",
       "      <th>24</th>\n",
       "      <td>fnZrZlqW1Z8iWgTVDfv_MA</td>\n",
       "      <td>carlsjr</td>\n",
       "      <td>9595 W Tropicana Ave</td>\n",
       "      <td>Las Vegas</td>\n",
       "      <td>NV</td>\n",
       "      <td>89147</td>\n",
       "      <td>36.099738</td>\n",
       "      <td>-115.301568</td>\n",
       "      <td>2.5</td>\n",
       "      <td>15</td>\n",
       "      <td>0</td>\n",
       "      <td>Alcohol: unone, WiFi: uno, GoodForKids: True, ...</td>\n",
       "      <td>Mexican, Restaurants, Fast Food</td>\n",
       "      <td>1</td>\n",
       "      <td>1</td>\n",
       "      <td>1</td>\n",
       "      <td>0</td>\n",
       "      <td>1</td>\n",
       "      <td>1</td>\n",
       "      <td>0</td>\n",
       "      <td>0</td>\n",
       "      <td>0</td>\n",
       "      <td>0</td>\n",
       "      <td>0</td>\n",
       "      <td>0</td>\n",
       "      <td>0</td>\n",
       "      <td>0</td>\n",
       "      <td>0</td>\n",
       "      <td>1</td>\n",
       "      <td>2</td>\n",
       "      <td>0</td>\n",
       "      <td>1</td>\n",
       "      <td>Mexican</td>\n",
       "    </tr>\n",
       "    <tr>\n",
       "      <th>28</th>\n",
       "      <td>98hyK2QEUeI8v2y0AghfZA</td>\n",
       "      <td>pholeesvietnameserestaurant</td>\n",
       "      <td>1541 E 38th St, Ste 101</td>\n",
       "      <td>Cleveland</td>\n",
       "      <td>OH</td>\n",
       "      <td>44114</td>\n",
       "      <td>41.512155</td>\n",
       "      <td>-81.663332</td>\n",
       "      <td>4.5</td>\n",
       "      <td>23</td>\n",
       "      <td>1</td>\n",
       "      <td>BusinessParking: None, Ambience: touristy: Fal...</td>\n",
       "      <td>Restaurants, Vietnamese, Soup</td>\n",
       "      <td>1</td>\n",
       "      <td>0</td>\n",
       "      <td>0</td>\n",
       "      <td>0</td>\n",
       "      <td>4</td>\n",
       "      <td>1</td>\n",
       "      <td>1</td>\n",
       "      <td>0</td>\n",
       "      <td>0</td>\n",
       "      <td>0</td>\n",
       "      <td>0</td>\n",
       "      <td>0</td>\n",
       "      <td>0</td>\n",
       "      <td>1</td>\n",
       "      <td>1</td>\n",
       "      <td>1</td>\n",
       "      <td>4</td>\n",
       "      <td>1</td>\n",
       "      <td>0</td>\n",
       "      <td>other</td>\n",
       "    </tr>\n",
       "    <tr>\n",
       "      <th>29</th>\n",
       "      <td>fhNf_sg-XzZ3e7HEVGuOZg</td>\n",
       "      <td>meatchixandwieners</td>\n",
       "      <td>6530 S Decatur Blvd</td>\n",
       "      <td>Las Vegas</td>\n",
       "      <td>NV</td>\n",
       "      <td>89118</td>\n",
       "      <td>36.071196</td>\n",
       "      <td>-115.207463</td>\n",
       "      <td>3.0</td>\n",
       "      <td>10</td>\n",
       "      <td>0</td>\n",
       "      <td>RestaurantsPriceRange2: 2, BusinessParking: ga...</td>\n",
       "      <td>Burgers, Restaurants, American (Traditional), ...</td>\n",
       "      <td>1</td>\n",
       "      <td>0</td>\n",
       "      <td>0</td>\n",
       "      <td>0</td>\n",
       "      <td>2</td>\n",
       "      <td>1</td>\n",
       "      <td>0</td>\n",
       "      <td>0</td>\n",
       "      <td>0</td>\n",
       "      <td>0</td>\n",
       "      <td>0</td>\n",
       "      <td>0</td>\n",
       "      <td>0</td>\n",
       "      <td>0</td>\n",
       "      <td>1</td>\n",
       "      <td>1</td>\n",
       "      <td>3</td>\n",
       "      <td>0</td>\n",
       "      <td>0</td>\n",
       "      <td>American</td>\n",
       "    </tr>\n",
       "    <tr>\n",
       "      <th>30</th>\n",
       "      <td>Ga2Bt7xfqoggTypWD5VpoQ</td>\n",
       "      <td>amandosbros</td>\n",
       "      <td>2602 W Southern Ave</td>\n",
       "      <td>Tempe</td>\n",
       "      <td>AZ</td>\n",
       "      <td>85282</td>\n",
       "      <td>33.393199</td>\n",
       "      <td>-111.976270</td>\n",
       "      <td>4.0</td>\n",
       "      <td>9</td>\n",
       "      <td>0</td>\n",
       "      <td>Caters: False, RestaurantsGoodForGroups: True,...</td>\n",
       "      <td>Mexican, Restaurants</td>\n",
       "      <td>1</td>\n",
       "      <td>0</td>\n",
       "      <td>1</td>\n",
       "      <td>0</td>\n",
       "      <td>1</td>\n",
       "      <td>1</td>\n",
       "      <td>0</td>\n",
       "      <td>0</td>\n",
       "      <td>0</td>\n",
       "      <td>0</td>\n",
       "      <td>0</td>\n",
       "      <td>0</td>\n",
       "      <td>0</td>\n",
       "      <td>0</td>\n",
       "      <td>1</td>\n",
       "      <td>1</td>\n",
       "      <td>1</td>\n",
       "      <td>0</td>\n",
       "      <td>0</td>\n",
       "      <td>Mexican</td>\n",
       "    </tr>\n",
       "    <tr>\n",
       "      <th>31</th>\n",
       "      <td>xFc50drSPxXkcLvX5ygqrg</td>\n",
       "      <td>boomerssweethomechicago</td>\n",
       "      <td>5932 W Bell Rd, Ste D-109</td>\n",
       "      <td>Glendale</td>\n",
       "      <td>AZ</td>\n",
       "      <td>85308</td>\n",
       "      <td>33.640391</td>\n",
       "      <td>-112.187028</td>\n",
       "      <td>3.5</td>\n",
       "      <td>12</td>\n",
       "      <td>0</td>\n",
       "      <td>BusinessAcceptsCreditCards: True, BusinessPark...</td>\n",
       "      <td>Burgers, Fast Food, American (New), Restaurant...</td>\n",
       "      <td>1</td>\n",
       "      <td>1</td>\n",
       "      <td>1</td>\n",
       "      <td>0</td>\n",
       "      <td>1</td>\n",
       "      <td>1</td>\n",
       "      <td>0</td>\n",
       "      <td>0</td>\n",
       "      <td>0</td>\n",
       "      <td>0</td>\n",
       "      <td>0</td>\n",
       "      <td>0</td>\n",
       "      <td>0</td>\n",
       "      <td>0</td>\n",
       "      <td>0</td>\n",
       "      <td>1</td>\n",
       "      <td>4</td>\n",
       "      <td>0</td>\n",
       "      <td>1</td>\n",
       "      <td>American</td>\n",
       "    </tr>\n",
       "    <tr>\n",
       "      <th>33</th>\n",
       "      <td>tLpkSwdtqqoXwU0JAGnApw</td>\n",
       "      <td>wendys</td>\n",
       "      <td>4602 Northfield Road</td>\n",
       "      <td>Cleveland</td>\n",
       "      <td>OH</td>\n",
       "      <td>44128</td>\n",
       "      <td>41.434614</td>\n",
       "      <td>-81.527026</td>\n",
       "      <td>3.5</td>\n",
       "      <td>7</td>\n",
       "      <td>1</td>\n",
       "      <td>RestaurantsDelivery: False, BusinessAcceptsCre...</td>\n",
       "      <td>Restaurants, Fast Food, Burgers</td>\n",
       "      <td>1</td>\n",
       "      <td>1</td>\n",
       "      <td>1</td>\n",
       "      <td>0</td>\n",
       "      <td>1</td>\n",
       "      <td>1</td>\n",
       "      <td>0</td>\n",
       "      <td>0</td>\n",
       "      <td>0</td>\n",
       "      <td>0</td>\n",
       "      <td>0</td>\n",
       "      <td>0</td>\n",
       "      <td>0</td>\n",
       "      <td>0</td>\n",
       "      <td>0</td>\n",
       "      <td>1</td>\n",
       "      <td>2</td>\n",
       "      <td>0</td>\n",
       "      <td>1</td>\n",
       "      <td>American</td>\n",
       "    </tr>\n",
       "    <tr>\n",
       "      <th>34</th>\n",
       "      <td>Sd75ucXKoZUM2BEfBHFUOg</td>\n",
       "      <td>chinagourmet</td>\n",
       "      <td>3460 E Southern Ave, Ste 109</td>\n",
       "      <td>Mesa</td>\n",
       "      <td>AZ</td>\n",
       "      <td>85204</td>\n",
       "      <td>33.394863</td>\n",
       "      <td>-111.756036</td>\n",
       "      <td>3.0</td>\n",
       "      <td>13</td>\n",
       "      <td>0</td>\n",
       "      <td>RestaurantsPriceRange2: 1, RestaurantsAttire: ...</td>\n",
       "      <td>Chinese, Restaurants</td>\n",
       "      <td>1</td>\n",
       "      <td>0</td>\n",
       "      <td>1</td>\n",
       "      <td>0</td>\n",
       "      <td>1</td>\n",
       "      <td>1</td>\n",
       "      <td>0</td>\n",
       "      <td>0</td>\n",
       "      <td>0</td>\n",
       "      <td>0</td>\n",
       "      <td>0</td>\n",
       "      <td>0</td>\n",
       "      <td>0</td>\n",
       "      <td>0</td>\n",
       "      <td>0</td>\n",
       "      <td>1</td>\n",
       "      <td>1</td>\n",
       "      <td>1</td>\n",
       "      <td>0</td>\n",
       "      <td>Chinese</td>\n",
       "    </tr>\n",
       "    <tr>\n",
       "      <th>37</th>\n",
       "      <td>lK-wuiq8b1TuU7bfbQZgsg</td>\n",
       "      <td>hingetown</td>\n",
       "      <td>NaN</td>\n",
       "      <td>Cleveland</td>\n",
       "      <td>OH</td>\n",
       "      <td>44113</td>\n",
       "      <td>41.489343</td>\n",
       "      <td>-81.711029</td>\n",
       "      <td>3.0</td>\n",
       "      <td>4</td>\n",
       "      <td>1</td>\n",
       "      <td>Alcohol: unone, GoodForKids: True, Restaurants...</td>\n",
       "      <td>Shopping Centers, Food, Coffee &amp; Tea, Cafes, M...</td>\n",
       "      <td>1</td>\n",
       "      <td>0</td>\n",
       "      <td>1</td>\n",
       "      <td>0</td>\n",
       "      <td>4</td>\n",
       "      <td>0</td>\n",
       "      <td>0</td>\n",
       "      <td>0</td>\n",
       "      <td>0</td>\n",
       "      <td>0</td>\n",
       "      <td>0</td>\n",
       "      <td>0</td>\n",
       "      <td>0</td>\n",
       "      <td>0</td>\n",
       "      <td>1</td>\n",
       "      <td>0</td>\n",
       "      <td>4</td>\n",
       "      <td>0</td>\n",
       "      <td>0</td>\n",
       "      <td>other</td>\n",
       "    </tr>\n",
       "  </tbody>\n",
       "</table>\n",
       "</div>"
      ],
      "text/plain": [
       "               business_id                         name  \\\n",
       "14  CsLQLiRoafpJPJSkNX2h5Q               middleeastdeli   \n",
       "21  vjTVxnsQEZ34XjYNS-XUpA              wetzelspretzels   \n",
       "24  fnZrZlqW1Z8iWgTVDfv_MA                      carlsjr   \n",
       "28  98hyK2QEUeI8v2y0AghfZA  pholeesvietnameserestaurant   \n",
       "29  fhNf_sg-XzZ3e7HEVGuOZg           meatchixandwieners   \n",
       "30  Ga2Bt7xfqoggTypWD5VpoQ                  amandosbros   \n",
       "31  xFc50drSPxXkcLvX5ygqrg      boomerssweethomechicago   \n",
       "33  tLpkSwdtqqoXwU0JAGnApw                       wendys   \n",
       "34  Sd75ucXKoZUM2BEfBHFUOg                 chinagourmet   \n",
       "37  lK-wuiq8b1TuU7bfbQZgsg                    hingetown   \n",
       "\n",
       "                         address       city state postal_code   latitude  \\\n",
       "14      4508 E Independence Blvd  Charlotte    NC       28205  35.194894   \n",
       "21  4550 East Cactus Rd, #KSFC-4    Phoenix    AZ       85032  33.602822   \n",
       "24          9595 W Tropicana Ave  Las Vegas    NV       89147  36.099738   \n",
       "28       1541 E 38th St, Ste 101  Cleveland    OH       44114  41.512155   \n",
       "29           6530 S Decatur Blvd  Las Vegas    NV       89118  36.071196   \n",
       "30           2602 W Southern Ave      Tempe    AZ       85282  33.393199   \n",
       "31     5932 W Bell Rd, Ste D-109   Glendale    AZ       85308  33.640391   \n",
       "33          4602 Northfield Road  Cleveland    OH       44128  41.434614   \n",
       "34  3460 E Southern Ave, Ste 109       Mesa    AZ       85204  33.394863   \n",
       "37                           NaN  Cleveland    OH       44113  41.489343   \n",
       "\n",
       "     longitude  stars  review_count  is_open  \\\n",
       "14  -80.767442    3.0             5        0   \n",
       "21 -111.983533    4.0            10        1   \n",
       "24 -115.301568    2.5            15        0   \n",
       "28  -81.663332    4.5            23        1   \n",
       "29 -115.207463    3.0            10        0   \n",
       "30 -111.976270    4.0             9        0   \n",
       "31 -112.187028    3.5            12        0   \n",
       "33  -81.527026    3.5             7        1   \n",
       "34 -111.756036    3.0            13        0   \n",
       "37  -81.711029    3.0             4        1   \n",
       "\n",
       "                                           attributes  \\\n",
       "14  RestaurantsGoodForGroups: True, OutdoorSeating...   \n",
       "21  GoodForKids: True, RestaurantsTakeOut: True, R...   \n",
       "24  Alcohol: unone, WiFi: uno, GoodForKids: True, ...   \n",
       "28  BusinessParking: None, Ambience: touristy: Fal...   \n",
       "29  RestaurantsPriceRange2: 2, BusinessParking: ga...   \n",
       "30  Caters: False, RestaurantsGoodForGroups: True,...   \n",
       "31  BusinessAcceptsCreditCards: True, BusinessPark...   \n",
       "33  RestaurantsDelivery: False, BusinessAcceptsCre...   \n",
       "34  RestaurantsPriceRange2: 1, RestaurantsAttire: ...   \n",
       "37  Alcohol: unone, GoodForKids: True, Restaurants...   \n",
       "\n",
       "                                           categories  Restaurant  Parking  \\\n",
       "14         Food, Restaurants, Grocery, Middle Eastern           1        0   \n",
       "21   Food, Pretzels, Bakeries, Fast Food, Restaurants           1        1   \n",
       "24                    Mexican, Restaurants, Fast Food           1        1   \n",
       "28                      Restaurants, Vietnamese, Soup           1        0   \n",
       "29  Burgers, Restaurants, American (Traditional), ...           1        0   \n",
       "30                               Mexican, Restaurants           1        0   \n",
       "31  Burgers, Fast Food, American (New), Restaurant...           1        1   \n",
       "33                    Restaurants, Fast Food, Burgers           1        1   \n",
       "34                               Chinese, Restaurants           1        0   \n",
       "37  Shopping Centers, Food, Coffee & Tea, Cafes, M...           1        0   \n",
       "\n",
       "    Kid_friendly  Reservations  Price_Range  Credit_card  wheelchair_access  \\\n",
       "14             1             0            1            1                  0   \n",
       "21             1             0            1            1                  0   \n",
       "24             1             0            1            1                  0   \n",
       "28             0             0            4            1                  1   \n",
       "29             0             0            2            1                  0   \n",
       "30             1             0            1            1                  0   \n",
       "31             1             0            1            1                  0   \n",
       "33             1             0            1            1                  0   \n",
       "34             1             0            1            1                  0   \n",
       "37             1             0            4            0                  0   \n",
       "\n",
       "    good_for_breakfast  good_for_lunch  good_for_dinner  alcohol  happyhour  \\\n",
       "14                   0               0                0        0          0   \n",
       "21                   0               0                0        0          0   \n",
       "24                   0               0                0        0          0   \n",
       "28                   0               0                0        0          0   \n",
       "29                   0               0                0        0          0   \n",
       "30                   0               0                0        0          0   \n",
       "31                   0               0                0        0          0   \n",
       "33                   0               0                0        0          0   \n",
       "34                   0               0                0        0          0   \n",
       "37                   0               0                0        0          0   \n",
       "\n",
       "    wifi  table_service  Entertainment  Takeout  Noise_Level  Delivery  \\\n",
       "14     0              0              0        1            4         0   \n",
       "21     0              0              0        1            4         0   \n",
       "24     0              0              0        1            2         0   \n",
       "28     0              1              1        1            4         1   \n",
       "29     0              0              1        1            3         0   \n",
       "30     0              0              1        1            1         0   \n",
       "31     0              0              0        1            4         0   \n",
       "33     0              0              0        1            2         0   \n",
       "34     0              0              0        1            1         1   \n",
       "37     0              0              1        0            4         0   \n",
       "\n",
       "    FastFood Ethnicity  \n",
       "14         0     other  \n",
       "21         1     other  \n",
       "24         1   Mexican  \n",
       "28         0     other  \n",
       "29         0  American  \n",
       "30         0   Mexican  \n",
       "31         1  American  \n",
       "33         1  American  \n",
       "34         0   Chinese  \n",
       "37         0     other  "
      ]
     },
     "execution_count": 82,
     "metadata": {},
     "output_type": "execute_result"
    }
   ],
   "source": [
    "#Select only restaurants for data analysis before chain is counted\n",
    "Rest_filt= business[\"Restaurant\"]==1\n",
    "Restaurant=business[Rest_filt]\n",
    "Restaurant.head(10)"
   ]
  },
  {
   "cell_type": "code",
   "execution_count": 84,
   "metadata": {},
   "outputs": [],
   "source": [
    "#Declare chain if chain counts is 4 or more.\n",
    "def Chain (x):\n",
    "    if x >= 4 :\n",
    "        return 1\n",
    "    else:\n",
    "        return 0"
   ]
  },
  {
   "cell_type": "code",
   "execution_count": 87,
   "metadata": {},
   "outputs": [
    {
     "data": {
      "text/plain": [
       "(35305, 33)"
      ]
     },
     "execution_count": 87,
     "metadata": {},
     "output_type": "execute_result"
    }
   ],
   "source": [
    "#Confirm shape of DF\n",
    "Restaurant.shape"
   ]
  },
  {
   "cell_type": "code",
   "execution_count": 88,
   "metadata": {},
   "outputs": [
    {
     "data": {
      "text/plain": [
       "23867"
      ]
     },
     "execution_count": 88,
     "metadata": {},
     "output_type": "execute_result"
    }
   ],
   "source": [
    "#Check for number of Open restaurants\n",
    "Restaurant['is_open'].sum()"
   ]
  },
  {
   "cell_type": "code",
   "execution_count": 89,
   "metadata": {},
   "outputs": [
    {
     "data": {
      "text/plain": [
       "11438"
      ]
     },
     "execution_count": 89,
     "metadata": {},
     "output_type": "execute_result"
    }
   ],
   "source": [
    "#Check for number of Closed restaurants\n",
    "len(Restaurant['is_open'])-(Restaurant['is_open'].sum())"
   ]
  },
  {
   "cell_type": "code",
   "execution_count": 90,
   "metadata": {
    "scrolled": true
   },
   "outputs": [
    {
     "data": {
      "text/plain": [
       "business_id             0\n",
       "name                    0\n",
       "address               395\n",
       "city                    0\n",
       "state                   0\n",
       "postal_code            39\n",
       "stars                   0\n",
       "review_count            0\n",
       "is_open                 0\n",
       "attributes              0\n",
       "categories              0\n",
       "Restaurant              0\n",
       "Parking                 0\n",
       "Kid_friendly            0\n",
       "Reservations            0\n",
       "Price_Range             0\n",
       "Credit_card             0\n",
       "wheelchair_access       0\n",
       "good_for_breakfast      0\n",
       "good_for_lunch          0\n",
       "good_for_dinner         0\n",
       "alcohol                 0\n",
       "happyhour               0\n",
       "wifi                    0\n",
       "table_service           0\n",
       "Entertainment           0\n",
       "Takeout                 0\n",
       "Noise_Level             0\n",
       "Delivery                0\n",
       "FastFood                0\n",
       "Ethnicity               0\n",
       "Chain_Counts            0\n",
       "Is_Chain                0\n",
       "dtype: int64"
      ]
     },
     "execution_count": 90,
     "metadata": {},
     "output_type": "execute_result"
    }
   ],
   "source": [
    "#Check again for null values\n",
    "Restaurant.isnull().sum()"
   ]
  },
  {
   "cell_type": "code",
   "execution_count": 91,
   "metadata": {},
   "outputs": [
    {
     "data": {
      "image/png": "[encoded data removed]",
      "text/plain": [
       "<Figure size 720x360 with 1 Axes>"
      ]
     },
     "metadata": {},
     "output_type": "display_data"
    }
   ],
   "source": [
    "#Make pie chart to show distribution of open and closed businesses'\n",
    "\n",
    "# Pie chart\n",
    "labels = [\"Open\", 'Closed']\n",
    "sizes = [23867, 11438]\n",
    "#colors\n",
    "colors = ['Lime','Red']\n",
    " \n",
    "fig1, ax1 = plt.subplots(figsize=(10,5))\n",
    "fig1.subplots_adjust(0.3,0,1,1)\n",
    "patches, texts, autotexts = ax1.pie(sizes, colors = colors, labels=labels, autopct='%1.1f%%', startangle=90)\n",
    "for text in texts:\n",
    "    text.set_color('black')\n",
    "    text.set_size(12)\n",
    "for autotext in autotexts:\n",
    "    autotext.set_color('black')\n",
    "    autotext.set_size(14)\n",
    "\n",
    "# Equal aspect ratio ensures that pie is drawn as a circle\n",
    "ax1.axis('equal')  \n",
    "plt.tight_layout()\n",
    "plt.show()"
   ]
  },
  {
   "cell_type": "code",
   "execution_count": 92,
   "metadata": {},
   "outputs": [
    {
     "data": {
      "text/plain": [
       "AZ    12130\n",
       "NV     8345\n",
       "OH     5914\n",
       "NC     4656\n",
       "PA     4260\n",
       "Name: state, dtype: int64"
      ]
     },
     "execution_count": 92,
     "metadata": {},
     "output_type": "execute_result"
    }
   ],
   "source": [
    "Restaurant.state.value_counts()"
   ]
  },
  {
   "cell_type": "code",
   "execution_count": 93,
   "metadata": {},
   "outputs": [
    {
     "data": {
      "text/plain": [
       "89109    1022\n",
       "85281     557\n",
       "89119     499\n",
       "85251     458\n",
       "89102     433\n",
       "89103     387\n",
       "15222     357\n",
       "89146     351\n",
       "28202     338\n",
       "89101     311\n",
       "89123     310\n",
       "85016     306\n",
       "28277     303\n",
       "85004     287\n",
       "44113     285\n",
       "85260     281\n",
       "85308     278\n",
       "85032     277\n",
       "89014     272\n",
       "85226     267\n",
       "89147     256\n",
       "85282     255\n",
       "89052     243\n",
       "89104     241\n",
       "89121     240\n",
       "89117     238\n",
       "85018     224\n",
       "85224     223\n",
       "44060     219\n",
       "28027     218\n",
       "         ... \n",
       "15142       1\n",
       "85350       1\n",
       "44301       1\n",
       "27262       1\n",
       "44010       1\n",
       "93013       1\n",
       "15301       1\n",
       "60616       1\n",
       "28221       1\n",
       "15049       1\n",
       "16509       1\n",
       "85010       1\n",
       "28272       1\n",
       "89179       1\n",
       "15240       1\n",
       "44307       1\n",
       "15075       1\n",
       "85263       1\n",
       "44219       1\n",
       "44210       1\n",
       "29707       1\n",
       "15601       1\n",
       "89009       1\n",
       "89199       1\n",
       "15018       1\n",
       "85324       1\n",
       "89114       1\n",
       "18104       1\n",
       "85355       1\n",
       "89039       1\n",
       "Name: postal_code, Length: 548, dtype: int64"
      ]
     },
     "execution_count": 93,
     "metadata": {},
     "output_type": "execute_result"
    }
   ],
   "source": [
    "Restaurant.postal_code.value_counts() #Reject"
   ]
  },
  {
   "cell_type": "code",
   "execution_count": 94,
   "metadata": {},
   "outputs": [
    {
     "data": {
      "text/plain": [
       "other       14430\n",
       "American    11503\n",
       "Mexican      3565\n",
       "Italian      2405\n",
       "Chinese      2074\n",
       "Japanese     1328\n",
       "Name: Ethnicity, dtype: int64"
      ]
     },
     "execution_count": 94,
     "metadata": {},
     "output_type": "execute_result"
    }
   ],
   "source": [
    "#Check for ethnicity distribution\n",
    "#Looks very skewed so it may not be used. There are 600 levels. This does not seem feasible for analysis within this time frame.\n",
    "Restaurant.Ethnicity.value_counts()"
   ]
  },
  {
   "cell_type": "code",
   "execution_count": 95,
   "metadata": {},
   "outputs": [
    {
     "data": {
      "text/html": [
       "<div>\n",
       "<style scoped>\n",
       "    .dataframe tbody tr th:only-of-type {\n",
       "        vertical-align: middle;\n",
       "    }\n",
       "\n",
       "    .dataframe tbody tr th {\n",
       "        vertical-align: top;\n",
       "    }\n",
       "\n",
       "    .dataframe thead th {\n",
       "        text-align: right;\n",
       "    }\n",
       "</style>\n",
       "<table border=\"1\" class=\"dataframe\">\n",
       "  <thead>\n",
       "    <tr style=\"text-align: right;\">\n",
       "      <th></th>\n",
       "      <th>business_id</th>\n",
       "      <th>name</th>\n",
       "      <th>address</th>\n",
       "      <th>city</th>\n",
       "      <th>state</th>\n",
       "      <th>postal_code</th>\n",
       "      <th>stars</th>\n",
       "      <th>review_count</th>\n",
       "      <th>is_open</th>\n",
       "      <th>attributes</th>\n",
       "      <th>categories</th>\n",
       "      <th>Restaurant</th>\n",
       "      <th>Parking</th>\n",
       "      <th>Kid_friendly</th>\n",
       "      <th>Reservations</th>\n",
       "      <th>Price_Range</th>\n",
       "      <th>Credit_card</th>\n",
       "      <th>wheelchair_access</th>\n",
       "      <th>good_for_breakfast</th>\n",
       "      <th>good_for_lunch</th>\n",
       "      <th>good_for_dinner</th>\n",
       "      <th>alcohol</th>\n",
       "      <th>happyhour</th>\n",
       "      <th>wifi</th>\n",
       "      <th>table_service</th>\n",
       "      <th>Entertainment</th>\n",
       "      <th>Takeout</th>\n",
       "      <th>Noise_Level</th>\n",
       "      <th>Delivery</th>\n",
       "      <th>FastFood</th>\n",
       "      <th>Ethnicity</th>\n",
       "      <th>Chain_Counts</th>\n",
       "      <th>Is_Chain</th>\n",
       "    </tr>\n",
       "  </thead>\n",
       "  <tbody>\n",
       "    <tr>\n",
       "      <th>14</th>\n",
       "      <td>CsLQLiRoafpJPJSkNX2h5Q</td>\n",
       "      <td>middleeastdeli</td>\n",
       "      <td>4508 E Independence Blvd</td>\n",
       "      <td>Charlotte</td>\n",
       "      <td>NC</td>\n",
       "      <td>28205</td>\n",
       "      <td>3.0</td>\n",
       "      <td>5</td>\n",
       "      <td>0</td>\n",
       "      <td>RestaurantsGoodForGroups: True, OutdoorSeating...</td>\n",
       "      <td>Food, Restaurants, Grocery, Middle Eastern</td>\n",
       "      <td>1</td>\n",
       "      <td>0</td>\n",
       "      <td>1</td>\n",
       "      <td>0</td>\n",
       "      <td>1</td>\n",
       "      <td>1</td>\n",
       "      <td>0</td>\n",
       "      <td>0</td>\n",
       "      <td>0</td>\n",
       "      <td>0</td>\n",
       "      <td>0</td>\n",
       "      <td>0</td>\n",
       "      <td>0</td>\n",
       "      <td>0</td>\n",
       "      <td>0</td>\n",
       "      <td>1</td>\n",
       "      <td>4</td>\n",
       "      <td>0</td>\n",
       "      <td>0</td>\n",
       "      <td>other</td>\n",
       "      <td>1</td>\n",
       "      <td>0</td>\n",
       "    </tr>\n",
       "    <tr>\n",
       "      <th>21</th>\n",
       "      <td>vjTVxnsQEZ34XjYNS-XUpA</td>\n",
       "      <td>wetzelspretzels</td>\n",
       "      <td>4550 East Cactus Rd, #KSFC-4</td>\n",
       "      <td>Phoenix</td>\n",
       "      <td>AZ</td>\n",
       "      <td>85032</td>\n",
       "      <td>4.0</td>\n",
       "      <td>10</td>\n",
       "      <td>1</td>\n",
       "      <td>GoodForKids: True, RestaurantsTakeOut: True, R...</td>\n",
       "      <td>Food, Pretzels, Bakeries, Fast Food, Restaurants</td>\n",
       "      <td>1</td>\n",
       "      <td>1</td>\n",
       "      <td>1</td>\n",
       "      <td>0</td>\n",
       "      <td>1</td>\n",
       "      <td>1</td>\n",
       "      <td>0</td>\n",
       "      <td>0</td>\n",
       "      <td>0</td>\n",
       "      <td>0</td>\n",
       "      <td>0</td>\n",
       "      <td>0</td>\n",
       "      <td>0</td>\n",
       "      <td>0</td>\n",
       "      <td>0</td>\n",
       "      <td>1</td>\n",
       "      <td>4</td>\n",
       "      <td>0</td>\n",
       "      <td>1</td>\n",
       "      <td>other</td>\n",
       "      <td>4</td>\n",
       "      <td>1</td>\n",
       "    </tr>\n",
       "    <tr>\n",
       "      <th>24</th>\n",
       "      <td>fnZrZlqW1Z8iWgTVDfv_MA</td>\n",
       "      <td>carlsjr</td>\n",
       "      <td>9595 W Tropicana Ave</td>\n",
       "      <td>Las Vegas</td>\n",
       "      <td>NV</td>\n",
       "      <td>89147</td>\n",
       "      <td>2.5</td>\n",
       "      <td>15</td>\n",
       "      <td>0</td>\n",
       "      <td>Alcohol: unone, WiFi: uno, GoodForKids: True, ...</td>\n",
       "      <td>Mexican, Restaurants, Fast Food</td>\n",
       "      <td>1</td>\n",
       "      <td>1</td>\n",
       "      <td>1</td>\n",
       "      <td>0</td>\n",
       "      <td>1</td>\n",
       "      <td>1</td>\n",
       "      <td>0</td>\n",
       "      <td>0</td>\n",
       "      <td>0</td>\n",
       "      <td>0</td>\n",
       "      <td>0</td>\n",
       "      <td>0</td>\n",
       "      <td>0</td>\n",
       "      <td>0</td>\n",
       "      <td>0</td>\n",
       "      <td>1</td>\n",
       "      <td>2</td>\n",
       "      <td>0</td>\n",
       "      <td>1</td>\n",
       "      <td>Mexican</td>\n",
       "      <td>57</td>\n",
       "      <td>1</td>\n",
       "    </tr>\n",
       "    <tr>\n",
       "      <th>28</th>\n",
       "      <td>98hyK2QEUeI8v2y0AghfZA</td>\n",
       "      <td>pholeesvietnameserestaurant</td>\n",
       "      <td>1541 E 38th St, Ste 101</td>\n",
       "      <td>Cleveland</td>\n",
       "      <td>OH</td>\n",
       "      <td>44114</td>\n",
       "      <td>4.5</td>\n",
       "      <td>23</td>\n",
       "      <td>1</td>\n",
       "      <td>BusinessParking: None, Ambience: touristy: Fal...</td>\n",
       "      <td>Restaurants, Vietnamese, Soup</td>\n",
       "      <td>1</td>\n",
       "      <td>0</td>\n",
       "      <td>0</td>\n",
       "      <td>0</td>\n",
       "      <td>4</td>\n",
       "      <td>1</td>\n",
       "      <td>1</td>\n",
       "      <td>0</td>\n",
       "      <td>0</td>\n",
       "      <td>0</td>\n",
       "      <td>0</td>\n",
       "      <td>0</td>\n",
       "      <td>0</td>\n",
       "      <td>1</td>\n",
       "      <td>1</td>\n",
       "      <td>1</td>\n",
       "      <td>4</td>\n",
       "      <td>1</td>\n",
       "      <td>0</td>\n",
       "      <td>other</td>\n",
       "      <td>1</td>\n",
       "      <td>0</td>\n",
       "    </tr>\n",
       "    <tr>\n",
       "      <th>29</th>\n",
       "      <td>fhNf_sg-XzZ3e7HEVGuOZg</td>\n",
       "      <td>meatchixandwieners</td>\n",
       "      <td>6530 S Decatur Blvd</td>\n",
       "      <td>Las Vegas</td>\n",
       "      <td>NV</td>\n",
       "      <td>89118</td>\n",
       "      <td>3.0</td>\n",
       "      <td>10</td>\n",
       "      <td>0</td>\n",
       "      <td>RestaurantsPriceRange2: 2, BusinessParking: ga...</td>\n",
       "      <td>Burgers, Restaurants, American (Traditional), ...</td>\n",
       "      <td>1</td>\n",
       "      <td>0</td>\n",
       "      <td>0</td>\n",
       "      <td>0</td>\n",
       "      <td>2</td>\n",
       "      <td>1</td>\n",
       "      <td>0</td>\n",
       "      <td>0</td>\n",
       "      <td>0</td>\n",
       "      <td>0</td>\n",
       "      <td>0</td>\n",
       "      <td>0</td>\n",
       "      <td>0</td>\n",
       "      <td>0</td>\n",
       "      <td>1</td>\n",
       "      <td>1</td>\n",
       "      <td>3</td>\n",
       "      <td>0</td>\n",
       "      <td>0</td>\n",
       "      <td>American</td>\n",
       "      <td>3</td>\n",
       "      <td>0</td>\n",
       "    </tr>\n",
       "  </tbody>\n",
       "</table>\n",
       "</div>"
      ],
      "text/plain": [
       "               business_id                         name  \\\n",
       "14  CsLQLiRoafpJPJSkNX2h5Q               middleeastdeli   \n",
       "21  vjTVxnsQEZ34XjYNS-XUpA              wetzelspretzels   \n",
       "24  fnZrZlqW1Z8iWgTVDfv_MA                      carlsjr   \n",
       "28  98hyK2QEUeI8v2y0AghfZA  pholeesvietnameserestaurant   \n",
       "29  fhNf_sg-XzZ3e7HEVGuOZg           meatchixandwieners   \n",
       "\n",
       "                         address       city state postal_code  stars  \\\n",
       "14      4508 E Independence Blvd  Charlotte    NC       28205    3.0   \n",
       "21  4550 East Cactus Rd, #KSFC-4    Phoenix    AZ       85032    4.0   \n",
       "24          9595 W Tropicana Ave  Las Vegas    NV       89147    2.5   \n",
       "28       1541 E 38th St, Ste 101  Cleveland    OH       44114    4.5   \n",
       "29           6530 S Decatur Blvd  Las Vegas    NV       89118    3.0   \n",
       "\n",
       "    review_count  is_open                                         attributes  \\\n",
       "14             5        0  RestaurantsGoodForGroups: True, OutdoorSeating...   \n",
       "21            10        1  GoodForKids: True, RestaurantsTakeOut: True, R...   \n",
       "24            15        0  Alcohol: unone, WiFi: uno, GoodForKids: True, ...   \n",
       "28            23        1  BusinessParking: None, Ambience: touristy: Fal...   \n",
       "29            10        0  RestaurantsPriceRange2: 2, BusinessParking: ga...   \n",
       "\n",
       "                                           categories  Restaurant  Parking  \\\n",
       "14         Food, Restaurants, Grocery, Middle Eastern           1        0   \n",
       "21   Food, Pretzels, Bakeries, Fast Food, Restaurants           1        1   \n",
       "24                    Mexican, Restaurants, Fast Food           1        1   \n",
       "28                      Restaurants, Vietnamese, Soup           1        0   \n",
       "29  Burgers, Restaurants, American (Traditional), ...           1        0   \n",
       "\n",
       "    Kid_friendly  Reservations  Price_Range  Credit_card  wheelchair_access  \\\n",
       "14             1             0            1            1                  0   \n",
       "21             1             0            1            1                  0   \n",
       "24             1             0            1            1                  0   \n",
       "28             0             0            4            1                  1   \n",
       "29             0             0            2            1                  0   \n",
       "\n",
       "    good_for_breakfast  good_for_lunch  good_for_dinner  alcohol  happyhour  \\\n",
       "14                   0               0                0        0          0   \n",
       "21                   0               0                0        0          0   \n",
       "24                   0               0                0        0          0   \n",
       "28                   0               0                0        0          0   \n",
       "29                   0               0                0        0          0   \n",
       "\n",
       "    wifi  table_service  Entertainment  Takeout  Noise_Level  Delivery  \\\n",
       "14     0              0              0        1            4         0   \n",
       "21     0              0              0        1            4         0   \n",
       "24     0              0              0        1            2         0   \n",
       "28     0              1              1        1            4         1   \n",
       "29     0              0              1        1            3         0   \n",
       "\n",
       "    FastFood Ethnicity  Chain_Counts  Is_Chain  \n",
       "14         0     other             1         0  \n",
       "21         1     other             4         1  \n",
       "24         1   Mexican            57         1  \n",
       "28         0     other             1         0  \n",
       "29         0  American             3         0  "
      ]
     },
     "execution_count": 95,
     "metadata": {},
     "output_type": "execute_result"
    }
   ],
   "source": [
    "Restaurant.head()"
   ]
  },
  {
   "cell_type": "code",
   "execution_count": null,
   "metadata": {},
   "outputs": [],
   "source": []
  }
 ],
 "metadata": {
  "kernelspec": {
   "display_name": "Python 3 (ipykernel)",
   "language": "python",
   "name": "python3"
  },
  "language_info": {
   "codemirror_mode": {
    "name": "ipython",
    "version": 3
   },
   "file_extension": ".py",
   "mimetype": "text/x-python",
   "name": "python",
   "nbconvert_exporter": "python",
   "pygments_lexer": "ipython3",
   "version": "3.7.13"
  }
 },
 "nbformat": 4,
 "nbformat_minor": 2
}
